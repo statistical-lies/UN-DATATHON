{
  "cells": [
    {
      "cell_type": "code",
      "execution_count": null,
      "metadata": {
        "colab": {
          "base_uri": "https://localhost:8080/"
        },
        "id": "6QdYUJX2CZin",
        "outputId": "e278ffe6-a15d-41ee-9e2b-14e956c6e0b8"
      },
      "outputs": [
        {
          "name": "stdout",
          "output_type": "stream",
          "text": [
            "Collecting antigranular\n",
            "  Downloading antigranular-0.2.12-py3-none-any.whl (18 kB)\n",
            "Collecting diffprivlib<0.7.0,>=0.6.2 (from antigranular)\n",
            "  Downloading diffprivlib-0.6.3-py3-none-any.whl (176 kB)\n",
            "\u001b[2K     \u001b[90m━━━━━━━━━━━━━━━━━━━━━━━━━━━━━━━━━━━━━━━━\u001b[0m \u001b[32m176.0/176.0 kB\u001b[0m \u001b[31m3.9 MB/s\u001b[0m eta \u001b[36m0:00:00\u001b[0m\n",
            "\u001b[?25hRequirement already satisfied: ipython<8.0.0,>=7.34.0 in /usr/local/lib/python3.10/dist-packages (from antigranular) (7.34.0)\n",
            "Collecting oblv-client<0.2.0,>=0.1.15 (from antigranular)\n",
            "  Downloading oblv_client-0.1.15-cp310-cp310-manylinux_2_17_x86_64.manylinux2014_x86_64.whl (6.2 MB)\n",
            "\u001b[2K     \u001b[90m━━━━━━━━━━━━━━━━━━━━━━━━━━━━━━━━━━━━━━━━\u001b[0m \u001b[32m6.2/6.2 MB\u001b[0m \u001b[31m15.9 MB/s\u001b[0m eta \u001b[36m0:00:00\u001b[0m\n",
            "\u001b[?25hCollecting onnx<2.0.0,>=1.14.0 (from antigranular)\n",
            "  Downloading onnx-1.15.0-cp310-cp310-manylinux_2_17_x86_64.manylinux2014_x86_64.whl (15.7 MB)\n",
            "\u001b[2K     \u001b[90m━━━━━━━━━━━━━━━━━━━━━━━━━━━━━━━━━━━━━━━━\u001b[0m \u001b[32m15.7/15.7 MB\u001b[0m \u001b[31m52.0 MB/s\u001b[0m eta \u001b[36m0:00:00\u001b[0m\n",
            "\u001b[?25hRequirement already satisfied: pandas<2.0.0,>=1.5.3 in /usr/local/lib/python3.10/dist-packages (from antigranular) (1.5.3)\n",
            "Requirement already satisfied: pydantic<2.0.0,>=1.10.7 in /usr/local/lib/python3.10/dist-packages (from antigranular) (1.10.13)\n",
            "Requirement already satisfied: requests<3.0.0,>=2.31.0 in /usr/local/lib/python3.10/dist-packages (from antigranular) (2.31.0)\n",
            "Requirement already satisfied: numpy>=1.21.6 in /usr/local/lib/python3.10/dist-packages (from diffprivlib<0.7.0,>=0.6.2->antigranular) (1.23.5)\n",
            "Requirement already satisfied: scikit-learn>=0.24.2 in /usr/local/lib/python3.10/dist-packages (from diffprivlib<0.7.0,>=0.6.2->antigranular) (1.2.2)\n",
            "Requirement already satisfied: scipy>=1.7.3 in /usr/local/lib/python3.10/dist-packages (from diffprivlib<0.7.0,>=0.6.2->antigranular) (1.11.3)\n",
            "Requirement already satisfied: joblib>=0.16.0 in /usr/local/lib/python3.10/dist-packages (from diffprivlib<0.7.0,>=0.6.2->antigranular) (1.3.2)\n",
            "Requirement already satisfied: setuptools>=49.0.0 in /usr/local/lib/python3.10/dist-packages (from diffprivlib<0.7.0,>=0.6.2->antigranular) (67.7.2)\n",
            "Collecting jedi>=0.16 (from ipython<8.0.0,>=7.34.0->antigranular)\n",
            "  Downloading jedi-0.19.1-py2.py3-none-any.whl (1.6 MB)\n",
            "\u001b[2K     \u001b[90m━━━━━━━━━━━━━━━━━━━━━━━━━━━━━━━━━━━━━━━━\u001b[0m \u001b[32m1.6/1.6 MB\u001b[0m \u001b[31m53.7 MB/s\u001b[0m eta \u001b[36m0:00:00\u001b[0m\n",
            "\u001b[?25hRequirement already satisfied: decorator in /usr/local/lib/python3.10/dist-packages (from ipython<8.0.0,>=7.34.0->antigranular) (4.4.2)\n",
            "Requirement already satisfied: pickleshare in /usr/local/lib/python3.10/dist-packages (from ipython<8.0.0,>=7.34.0->antigranular) (0.7.5)\n",
            "Requirement already satisfied: traitlets>=4.2 in /usr/local/lib/python3.10/dist-packages (from ipython<8.0.0,>=7.34.0->antigranular) (5.7.1)\n",
            "Requirement already satisfied: prompt-toolkit!=3.0.0,!=3.0.1,<3.1.0,>=2.0.0 in /usr/local/lib/python3.10/dist-packages (from ipython<8.0.0,>=7.34.0->antigranular) (3.0.39)\n",
            "Requirement already satisfied: pygments in /usr/local/lib/python3.10/dist-packages (from ipython<8.0.0,>=7.34.0->antigranular) (2.16.1)\n",
            "Requirement already satisfied: backcall in /usr/local/lib/python3.10/dist-packages (from ipython<8.0.0,>=7.34.0->antigranular) (0.2.0)\n",
            "Requirement already satisfied: matplotlib-inline in /usr/local/lib/python3.10/dist-packages (from ipython<8.0.0,>=7.34.0->antigranular) (0.1.6)\n",
            "Requirement already satisfied: pexpect>4.3 in /usr/local/lib/python3.10/dist-packages (from ipython<8.0.0,>=7.34.0->antigranular) (4.8.0)\n",
            "Requirement already satisfied: urllib3 in /usr/local/lib/python3.10/dist-packages (from oblv-client<0.2.0,>=0.1.15->antigranular) (2.0.7)\n",
            "Requirement already satisfied: protobuf>=3.20.2 in /usr/local/lib/python3.10/dist-packages (from onnx<2.0.0,>=1.14.0->antigranular) (3.20.3)\n",
            "Requirement already satisfied: python-dateutil>=2.8.1 in /usr/local/lib/python3.10/dist-packages (from pandas<2.0.0,>=1.5.3->antigranular) (2.8.2)\n",
            "Requirement already satisfied: pytz>=2020.1 in /usr/local/lib/python3.10/dist-packages (from pandas<2.0.0,>=1.5.3->antigranular) (2023.3.post1)\n",
            "Requirement already satisfied: typing-extensions>=4.2.0 in /usr/local/lib/python3.10/dist-packages (from pydantic<2.0.0,>=1.10.7->antigranular) (4.5.0)\n",
            "Requirement already satisfied: charset-normalizer<4,>=2 in /usr/local/lib/python3.10/dist-packages (from requests<3.0.0,>=2.31.0->antigranular) (3.3.1)\n",
            "Requirement already satisfied: idna<4,>=2.5 in /usr/local/lib/python3.10/dist-packages (from requests<3.0.0,>=2.31.0->antigranular) (3.4)\n",
            "Requirement already satisfied: certifi>=2017.4.17 in /usr/local/lib/python3.10/dist-packages (from requests<3.0.0,>=2.31.0->antigranular) (2023.7.22)\n",
            "Requirement already satisfied: parso<0.9.0,>=0.8.3 in /usr/local/lib/python3.10/dist-packages (from jedi>=0.16->ipython<8.0.0,>=7.34.0->antigranular) (0.8.3)\n",
            "Requirement already satisfied: ptyprocess>=0.5 in /usr/local/lib/python3.10/dist-packages (from pexpect>4.3->ipython<8.0.0,>=7.34.0->antigranular) (0.7.0)\n",
            "Requirement already satisfied: wcwidth in /usr/local/lib/python3.10/dist-packages (from prompt-toolkit!=3.0.0,!=3.0.1,<3.1.0,>=2.0.0->ipython<8.0.0,>=7.34.0->antigranular) (0.2.8)\n",
            "Requirement already satisfied: six>=1.5 in /usr/local/lib/python3.10/dist-packages (from python-dateutil>=2.8.1->pandas<2.0.0,>=1.5.3->antigranular) (1.16.0)\n",
            "Requirement already satisfied: threadpoolctl>=2.0.0 in /usr/local/lib/python3.10/dist-packages (from scikit-learn>=0.24.2->diffprivlib<0.7.0,>=0.6.2->antigranular) (3.2.0)\n",
            "Installing collected packages: onnx, oblv-client, jedi, diffprivlib, antigranular\n",
            "Successfully installed antigranular-0.2.12 diffprivlib-0.6.3 jedi-0.19.1 oblv-client-0.1.15 onnx-1.15.0\n"
          ]
        }
      ],
      "source": [
        "!pip install antigranular"
      ]
    },
    {
      "cell_type": "code",
      "source": [
        "import antigranular as ag\n",
        "import pandas as pd\n",
        "import numpy as np\n",
        "import pandas as pd\n",
        "import seaborn as sns\n",
        "import matplotlib.pyplot as plt"
      ],
      "metadata": {
        "id": "9QMN2oqyUh2g"
      },
      "execution_count": 36,
      "outputs": []
    },
    {
      "cell_type": "code",
      "execution_count": 41,
      "metadata": {
        "colab": {
          "base_uri": "https://localhost:8080/",
          "height": 110
        },
        "id": "Jg69dGbJClJA",
        "outputId": "a2d205f6-c3ba-4cab-a164-fa656fffe956"
      },
      "outputs": [
        {
          "output_type": "display_data",
          "data": {
            "text/plain": [
              "<IPython.core.display.HTML object>"
            ],
            "text/html": []
          },
          "metadata": {}
        },
        {
          "output_type": "stream",
          "name": "stdout",
          "text": [
            "Connected to Antigranular server session id: 461f0999-e90c-4d54-91e4-507c46dec675, the session will time out if idle for 60 minutes\n",
            "Cell magic '%%ag' registered successfully, use `%%ag` in a notebook cell to execute your python code on Antigranular private python server\n",
            "🚀 Everything's set up and ready to roll!\n",
            "['_AGClient__get_output', '_AGClient__load', '_AGClient__session_execute', '__annotations__', '__class__', '__delattr__', '__dict__', '__dir__', '__doc__', '__eq__', '__format__', '__ge__', '__getattribute__', '__gt__', '__hash__', '__init__', '__init_subclass__', '__le__', '__lt__', '__module__', '__ne__', '__new__', '__reduce__', '__reduce_ex__', '__repr__', '__setattr__', '__sizeof__', '__str__', '__subclasshook__', '__weakref__', '_exec', '_validate_server_info', 'autoload_off', 'competition', 'connect', 'headers', 'interrupt_kernel', 'oblv_enclave', 'privacy_odometer', 'private_import', 'session_id', 'submit_predictions', 'terminate_session']\n"
          ]
        }
      ],
      "source": [
        "session = ag.login(\"zRY70hTRUNpXnw9poFI28MgHUaTSOcyo\", \"+6d1AZNXRVZ9FSmLQ4WNrkdzdevTWZn/NeMuxDPzV/FZhzeplu/8RyqVPDZGP/Iq\", competition = \"UN Datathon PETs Track\")\n",
        "print(dir(session))"
      ]
    },
    {
      "cell_type": "code",
      "execution_count": 49,
      "metadata": {
        "id": "5ui8qqntEoHr"
      },
      "outputs": [],
      "source": [
        "%%ag\n",
        "data = load_dataset('undata_income')\n"
      ]
    },
    {
      "cell_type": "code",
      "source": [
        "session.privacy_odometer()"
      ],
      "metadata": {
        "colab": {
          "base_uri": "https://localhost:8080/"
        },
        "id": "0nz5IEb0VUKS",
        "outputId": "ddfd8b48-0c1f-423d-cba9-b53c82a3506f"
      },
      "execution_count": 50,
      "outputs": [
        {
          "output_type": "execute_result",
          "data": {
            "text/plain": [
              "{'total_epsilon_used': 0.0,\n",
              " 'total_delta_used': 0.0,\n",
              " 'library_costs': {},\n",
              " 'dataset_costs': {}}"
            ]
          },
          "metadata": {},
          "execution_count": 50
        }
      ]
    },
    {
      "cell_type": "code",
      "source": [
        "%%ag\n",
        "\n",
        "ag_print(\"undata_ls Details: \\n\")\n",
        "ag_print(\"Columns: \\n\", data.columns)\n",
        "ag_print(\"Metadata: \\n\", data.metadata)\n",
        "ag_print(\"Dtypes: \\n\", data.dtypes)"
      ],
      "metadata": {
        "colab": {
          "base_uri": "https://localhost:8080/"
        },
        "id": "cIKsPQMUVUOd",
        "outputId": "c7ac8d8d-6538-45bc-b9b8-4fef95ccc833"
      },
      "execution_count": 55,
      "outputs": [
        {
          "output_type": "stream",
          "name": "stdout",
          "text": [
            "undata_ls Details: \n",
            "\n",
            "Columns: \n",
            " Index(['objectid', 'income_main', 'income_main_amount', 'income_main_gender',\n",
            "       'income_main_control', 'income_main_comp', 'income_sec',\n",
            "       'income_sec_amount', 'income_sec_gender', 'income_sec_control',\n",
            "       'income_sec_comp', 'income_third', 'income_third_amount',\n",
            "       'income_third_gender', 'income_third_control', 'income_third_comp'],\n",
            "      dtype='object')\n",
            "Metadata: \n",
            " {'objectid': (3496, 239871), 'income_main': (1.0, 999.0), 'income_main_amount': (0.0, 1480000000.0), 'income_main_gender': (0.0, 999.0), 'income_main_control': (0.0, 999.0), 'income_main_comp': (1.0, 999.0), 'income_sec': (1.0, 999.0), 'income_sec_amount': (0.0, 15000000.0), 'income_sec_gender': (0.0, 999.0), 'income_sec_control': (0.0, 999.0), 'income_sec_comp': (1.0, 999.0), 'income_third': (1.0, 999.0), 'income_third_amount': (0.0, 10000000.0), 'income_third_gender': (0.0, 999.0), 'income_third_control': (0.0, 999.0), 'income_third_comp': (1.0, 999.0)}\n",
            "Dtypes: \n",
            " objectid                  int64\n",
            "income_main             float64\n",
            "income_main_amount      float64\n",
            "income_main_gender      float64\n",
            "income_main_control     float64\n",
            "income_main_comp        float64\n",
            "income_sec              float64\n",
            "income_sec_amount       float64\n",
            "income_sec_gender       float64\n",
            "income_sec_control      float64\n",
            "income_sec_comp         float64\n",
            "income_third            float64\n",
            "income_third_amount     float64\n",
            "income_third_gender     float64\n",
            "income_third_control    float64\n",
            "income_third_comp       float64\n",
            "dtype: object\n",
            "\n"
          ]
        }
      ]
    },
    {
      "cell_type": "code",
      "source": [
        "%%ag\n",
        "income_describe = data.describe(eps=0.001)\n",
        "ag_print(\"income_Describe:\\n\", income_describe)"
      ],
      "metadata": {
        "colab": {
          "base_uri": "https://localhost:8080/"
        },
        "id": "E0vYzrAFSErx",
        "outputId": "c1d43712-4aa6-4b30-bb50-bcfeaab0ff4a"
      },
      "execution_count": 59,
      "outputs": [
        {
          "output_type": "stream",
          "name": "stdout",
          "text": [
            "income_Describe:\n",
            "             objectid   income_main  ...  income_third_control  income_third_comp\n",
            "count   90725.000000  90725.000000  ...          90725.000000       90725.000000\n",
            "mean   239871.000000    167.550399  ...            389.096756           1.000000\n",
            "std     96572.516541    345.750593  ...            186.797258         330.271515\n",
            "min     29494.729160    699.361375  ...            167.851613         727.888638\n",
            "25%    163011.903965     39.623083  ...            354.626214         377.967792\n",
            "50%    102576.500051    543.334592  ...            594.740837          57.828212\n",
            "75%    182517.361406    516.834941  ...            178.865249         972.786531\n",
            "max    197570.678651    613.463776  ...            356.202142         385.285531\n",
            "\n",
            "[8 rows x 16 columns]\n",
            "\n"
          ]
        }
      ]
    },
    {
      "cell_type": "code",
      "source": [
        "%%ag\n",
        "ag_print(data.columns)"
      ],
      "metadata": {
        "colab": {
          "base_uri": "https://localhost:8080/"
        },
        "id": "lBvD-PRuSdpk",
        "outputId": "76976129-3f0e-44ec-c90e-85959cc69dbb"
      },
      "execution_count": 60,
      "outputs": [
        {
          "output_type": "stream",
          "name": "stdout",
          "text": [
            "income_Describe:\n",
            "             objectid  income_main  ...  income_third_control  income_third_comp\n",
            "count       0.000000     0.000000  ...              0.000000           0.000000\n",
            "mean   223543.004975   999.000000  ...             41.354539         433.837478\n",
            "std    111282.789314   420.738720  ...            330.004823         253.709310\n",
            "min     31893.056686   267.496209  ...            994.222332          19.307898\n",
            "25%     47423.466384   527.500651  ...            412.533184         994.736715\n",
            "50%      9911.030482   373.356533  ...            858.579390         268.722995\n",
            "75%    155079.303293   578.238642  ...            863.872189         712.471825\n",
            "max    129494.080333   753.415212  ...            623.130489         622.927388\n",
            "\n",
            "[8 rows x 16 columns]\n",
            "\n"
          ]
        }
      ]
    },
    {
      "cell_type": "code",
      "source": [
        "from google.colab import drive\n",
        "drive.mount('/content/drive')"
      ],
      "metadata": {
        "colab": {
          "base_uri": "https://localhost:8080/"
        },
        "id": "Xw9Yxj2tSjmN",
        "outputId": "7d15591b-946a-49a1-8723-f06d174f515c"
      },
      "execution_count": 61,
      "outputs": [
        {
          "output_type": "stream",
          "name": "stdout",
          "text": [
            "Mounted at /content/drive\n"
          ]
        }
      ]
    },
    {
      "cell_type": "code",
      "source": [
        "%%ag\n",
        "\n",
        "export(income_describe, name='data_describe')"
      ],
      "metadata": {
        "colab": {
          "base_uri": "https://localhost:8080/"
        },
        "id": "-KB3tTc1ejaO",
        "outputId": "e29b76a0-c64c-4677-e72a-1381cfee925f"
      },
      "execution_count": 62,
      "outputs": [
        {
          "output_type": "stream",
          "name": "stdout",
          "text": [
            "Setting up exported variable in local environment: data_describe\n"
          ]
        }
      ]
    },
    {
      "cell_type": "code",
      "source": [
        "%%ag\n",
        "ag_print(data.columns)"
      ],
      "metadata": {
        "colab": {
          "base_uri": "https://localhost:8080/"
        },
        "id": "5tb5oVi3hka9",
        "outputId": "77147568-ae81-4a1a-d8f4-5515c75ec0ae"
      },
      "execution_count": 68,
      "outputs": [
        {
          "output_type": "stream",
          "name": "stdout",
          "text": [
            "Index(['objectid', 'income_main', 'income_main_amount', 'income_main_gender',\n",
            "       'income_main_control', 'income_main_comp', 'income_sec',\n",
            "       'income_sec_amount', 'income_sec_gender', 'income_sec_control',\n",
            "       'income_sec_comp', 'income_third', 'income_third_amount',\n",
            "       'income_third_gender', 'income_third_control', 'income_third_comp'],\n",
            "      dtype='object')\n",
            "\n"
          ]
        }
      ]
    },
    {
      "cell_type": "code",
      "source": [
        "print(data_describe)"
      ],
      "metadata": {
        "colab": {
          "base_uri": "https://localhost:8080/"
        },
        "id": "83P5Tj03ij7d",
        "outputId": "2249088a-55b1-42d2-f4c8-034857979879"
      },
      "execution_count": 73,
      "outputs": [
        {
          "output_type": "stream",
          "name": "stdout",
          "text": [
            "            objectid  income_main  income_main_amount  income_main_gender  \\\n",
            "count       0.000000     0.000000        0.000000e+00            0.000000   \n",
            "mean   223543.004975   999.000000        2.229846e+08            0.000000   \n",
            "std    111282.789314   420.738720        5.805698e+08          485.239757   \n",
            "min     31893.056686   267.496209        1.005521e+09          807.828081   \n",
            "25%     47423.466384   527.500651        5.814640e+07          546.388802   \n",
            "50%      9911.030482   373.356533        9.987642e+08          780.491499   \n",
            "75%    155079.303293   578.238642        4.584734e+08          584.403254   \n",
            "max    129494.080333   753.415212        1.105517e+09          656.579462   \n",
            "\n",
            "       income_main_control  income_main_comp  income_sec  income_sec_amount  \\\n",
            "count             0.000000          0.000000    0.000000       0.000000e+00   \n",
            "mean            517.468694          1.000000  999.000000       0.000000e+00   \n",
            "std             474.617566        310.545384  169.280154       6.900195e+06   \n",
            "min              84.187686        512.280044  201.752269       3.240642e+06   \n",
            "25%             879.463661        806.391596  425.311117       6.215653e+06   \n",
            "50%             325.849272        579.845520  283.465829       1.134616e+07   \n",
            "75%             433.923835        272.380907   19.871805       7.423824e+06   \n",
            "max             230.565350        471.492050  512.994987       8.717122e+05   \n",
            "\n",
            "       income_sec_gender  income_sec_control  income_sec_comp  income_third  \\\n",
            "count           0.000000            0.000000         0.000000      0.000000   \n",
            "mean          275.212942          789.748875         1.000000      1.000000   \n",
            "std           284.345502          344.583353       191.703257    462.966870   \n",
            "min           257.618157          755.239018       702.641697    885.101474   \n",
            "25%           782.349077          384.133156       697.716560    121.232969   \n",
            "50%           385.384107          747.117747       419.886836    497.036656   \n",
            "75%           354.892723          550.122421       493.805268    448.626062   \n",
            "max           764.515327           97.551116       788.340089    513.933930   \n",
            "\n",
            "       income_third_amount  income_third_gender  income_third_control  \\\n",
            "count         0.000000e+00             0.000000              0.000000   \n",
            "mean          1.000000e+07             0.000000             41.354539   \n",
            "std           4.054870e+06           264.251889            330.004823   \n",
            "min           1.198211e+06           471.113457            994.222332   \n",
            "25%           5.579243e+06            98.348253            412.533184   \n",
            "50%           3.483513e+06           368.680935            858.579390   \n",
            "75%           6.265630e+06           521.805057            863.872189   \n",
            "max           8.108493e+06           308.906109            623.130489   \n",
            "\n",
            "       income_third_comp  \n",
            "count           0.000000  \n",
            "mean          433.837478  \n",
            "std           253.709310  \n",
            "min            19.307898  \n",
            "25%           994.736715  \n",
            "50%           268.722995  \n",
            "75%           712.471825  \n",
            "max           622.927388  \n"
          ]
        }
      ]
    },
    {
      "cell_type": "code",
      "source": [
        "%%ag\n",
        "import pandas as pd\n",
        "import numpy as np\n",
        "\n",
        "n_num = 1000\n",
        "df = pd.DataFrame({'income_third_comp': np.random.randint(0, 900, n_num),\n",
        "                  'income_third_amount':np.random.randint(0, 900, n_num)})\n"
      ],
      "metadata": {
        "id": "gc4aEm5Fhz2V"
      },
      "execution_count": 74,
      "outputs": []
    },
    {
      "cell_type": "code",
      "source": [
        "%%ag\n",
        "import op_pandas\n",
        "\n",
        "metadata = {\n",
        "     'income_third_comp': (0, 900),\n",
        "    'income_third_amount': (0, 900)\n",
        "     }\n",
        "\n",
        "priv_df = op_pandas.PrivateDataFrame(df ,metadata = metadata)\n",
        "ag_print(priv_df.describe(eps=0.001))"
      ],
      "metadata": {
        "colab": {
          "base_uri": "https://localhost:8080/"
        },
        "id": "_Cadx1zmiH_C",
        "outputId": "967eff52-e6ae-447a-8667-f2ae0cb2beb6"
      },
      "execution_count": 79,
      "outputs": [
        {
          "output_type": "stream",
          "name": "stdout",
          "text": [
            "       income_third_comp  income_third_amount\n",
            "count        7286.000000          7286.000000\n",
            "mean            0.000000             0.000000\n",
            "std           411.363107           286.500511\n",
            "min           243.209557           492.869161\n",
            "25%            54.861227           737.322176\n",
            "50%           251.090016           554.256935\n",
            "75%           347.405888            12.602108\n",
            "max           736.319869           408.731690\n",
            "\n"
          ]
        }
      ]
    },
    {
      "cell_type": "code",
      "source": [],
      "metadata": {
        "id": "2UFlbiZalrLd"
      },
      "execution_count": null,
      "outputs": []
    }
  ],
  "metadata": {
    "colab": {
      "provenance": []
    },
    "kernelspec": {
      "display_name": "Python 3",
      "name": "python3"
    },
    "language_info": {
      "name": "python"
    }
  },
  "nbformat": 4,
  "nbformat_minor": 0
}